{
 "cells": [
  {
   "cell_type": "markdown",
   "metadata": {},
   "source": [
    "<h3>1. Import module yang dibutuhkan</h3>"
   ]
  },
  {
   "cell_type": "code",
   "execution_count": 1,
   "metadata": {},
   "outputs": [],
   "source": [
    "from sklearn.model_selection import train_test_split\n",
    "from sklearn.preprocessing import LabelEncoder\n",
    "from sklearn.metrics import classification_report\n",
    "from tensorflow.keras.models import Sequential\n",
    "from tensorflow.keras.layers import InputLayer, Flatten, Dense, Conv2D, MaxPool2D, Dropout\n",
    "from tensorflow.keras.optimizers import Adam\n",
    "import numpy as np\n",
    "import cv2\n",
    "import glob\n",
    "import matplotlib.pyplot as plt"
   ]
  },
  {
   "cell_type": "markdown",
   "metadata": {},
   "source": [
    "<h3>2. Load Dataset</h3>"
   ]
  },
  {
   "cell_type": "code",
   "execution_count": 2,
   "metadata": {},
   "outputs": [],
   "source": [
    "imagePaths = 'Dataset\\\\'\n",
    "label_list = ['Daun Nangka', 'Daun Pandan']\n",
    "data = []\n",
    "labels = []"
   ]
  },
  {
   "cell_type": "code",
   "execution_count": 3,
   "metadata": {},
   "outputs": [],
   "source": [
    "for label in label_list:\n",
    "    for imagePath in glob.glob(imagePaths+label+'\\\\*.jpg'):\n",
    "        #print(imagePath)\n",
    "        image = cv2.imread(imagePath)\n",
    "        image = cv2.resize(image, (32, 32))\n",
    "        data.append(image)\n",
    "        labels.append(label)"
   ]
  },
  {
   "cell_type": "code",
   "execution_count": 4,
   "metadata": {},
   "outputs": [
    {
     "data": {
      "text/plain": [
       "(100, 32, 32, 3)"
      ]
     },
     "execution_count": 4,
     "metadata": {},
     "output_type": "execute_result"
    }
   ],
   "source": [
    "np.array(data).shape"
   ]
  },
  {
   "cell_type": "markdown",
   "metadata": {},
   "source": [
    "<h3>3. Data Preprocessing</h3>"
   ]
  },
  {
   "cell_type": "code",
   "execution_count": 5,
   "metadata": {},
   "outputs": [],
   "source": [
    "# ubah type data dari list menjadi array\n",
    "# ubah nilai dari tiap pixel menjadi range [0..1]\n",
    "data = np.array(data, dtype='float') / 255.0\n",
    "labels = np.array(labels)"
   ]
  },
  {
   "cell_type": "code",
   "execution_count": 6,
   "metadata": {},
   "outputs": [
    {
     "name": "stdout",
     "output_type": "stream",
     "text": [
      "['Daun Nangka' 'Daun Nangka' 'Daun Nangka' 'Daun Nangka' 'Daun Nangka'\n",
      " 'Daun Nangka' 'Daun Nangka' 'Daun Nangka' 'Daun Nangka' 'Daun Nangka'\n",
      " 'Daun Nangka' 'Daun Nangka' 'Daun Nangka' 'Daun Nangka' 'Daun Nangka'\n",
      " 'Daun Nangka' 'Daun Nangka' 'Daun Nangka' 'Daun Nangka' 'Daun Nangka'\n",
      " 'Daun Nangka' 'Daun Nangka' 'Daun Nangka' 'Daun Nangka' 'Daun Nangka'\n",
      " 'Daun Nangka' 'Daun Nangka' 'Daun Nangka' 'Daun Nangka' 'Daun Nangka'\n",
      " 'Daun Nangka' 'Daun Nangka' 'Daun Nangka' 'Daun Nangka' 'Daun Nangka'\n",
      " 'Daun Nangka' 'Daun Nangka' 'Daun Nangka' 'Daun Nangka' 'Daun Nangka'\n",
      " 'Daun Nangka' 'Daun Nangka' 'Daun Nangka' 'Daun Nangka' 'Daun Nangka'\n",
      " 'Daun Nangka' 'Daun Nangka' 'Daun Nangka' 'Daun Nangka' 'Daun Nangka'\n",
      " 'Daun Pandan' 'Daun Pandan' 'Daun Pandan' 'Daun Pandan' 'Daun Pandan'\n",
      " 'Daun Pandan' 'Daun Pandan' 'Daun Pandan' 'Daun Pandan' 'Daun Pandan'\n",
      " 'Daun Pandan' 'Daun Pandan' 'Daun Pandan' 'Daun Pandan' 'Daun Pandan'\n",
      " 'Daun Pandan' 'Daun Pandan' 'Daun Pandan' 'Daun Pandan' 'Daun Pandan'\n",
      " 'Daun Pandan' 'Daun Pandan' 'Daun Pandan' 'Daun Pandan' 'Daun Pandan'\n",
      " 'Daun Pandan' 'Daun Pandan' 'Daun Pandan' 'Daun Pandan' 'Daun Pandan'\n",
      " 'Daun Pandan' 'Daun Pandan' 'Daun Pandan' 'Daun Pandan' 'Daun Pandan'\n",
      " 'Daun Pandan' 'Daun Pandan' 'Daun Pandan' 'Daun Pandan' 'Daun Pandan'\n",
      " 'Daun Pandan' 'Daun Pandan' 'Daun Pandan' 'Daun Pandan' 'Daun Pandan'\n",
      " 'Daun Pandan' 'Daun Pandan' 'Daun Pandan' 'Daun Pandan' 'Daun Pandan']\n"
     ]
    }
   ],
   "source": [
    "print(labels)"
   ]
  },
  {
   "cell_type": "code",
   "execution_count": 7,
   "metadata": {},
   "outputs": [
    {
     "name": "stdout",
     "output_type": "stream",
     "text": [
      "[0 0 0 0 0 0 0 0 0 0 0 0 0 0 0 0 0 0 0 0 0 0 0 0 0 0 0 0 0 0 0 0 0 0 0 0 0\n",
      " 0 0 0 0 0 0 0 0 0 0 0 0 0 1 1 1 1 1 1 1 1 1 1 1 1 1 1 1 1 1 1 1 1 1 1 1 1\n",
      " 1 1 1 1 1 1 1 1 1 1 1 1 1 1 1 1 1 1 1 1 1 1 1 1 1 1]\n"
     ]
    }
   ],
   "source": [
    "# ubah nilai dari labels menjadi binary\n",
    "lb = LabelEncoder()\n",
    "labels = lb.fit_transform(labels)\n",
    "print(labels)"
   ]
  },
  {
   "cell_type": "markdown",
   "metadata": {},
   "source": [
    "<h3>4. Split Dataset</h3>"
   ]
  },
  {
   "cell_type": "code",
   "execution_count": 8,
   "metadata": {},
   "outputs": [],
   "source": [
    "x_train, x_test, y_train, y_test = train_test_split(data, labels, test_size=0.2, random_state=42)"
   ]
  },
  {
   "cell_type": "code",
   "execution_count": 9,
   "metadata": {},
   "outputs": [
    {
     "name": "stdout",
     "output_type": "stream",
     "text": [
      "Ukuran data train = (80, 32, 32, 3)\n",
      "Ukuran data test = (20, 32, 32, 3)\n"
     ]
    }
   ],
   "source": [
    "print('Ukuran data train =', x_train.shape)\n",
    "print('Ukuran data test =', x_test.shape)"
   ]
  },
  {
   "cell_type": "markdown",
   "metadata": {},
   "source": [
    "<h3>5. Build CNN Architecture</h3>"
   ]
  },
  {
   "cell_type": "code",
   "execution_count": 10,
   "metadata": {},
   "outputs": [],
   "source": [
    "model = Sequential()\n",
    "# Extracted Feature Layer\n",
    "model.add(InputLayer(input_shape=[32,32,3]))\n",
    "model.add(Conv2D(filters=32, kernel_size=2, strides=1, padding='same', activation='relu'))\n",
    "model.add(MaxPool2D(pool_size=2, padding='same'))\n",
    "model.add(Conv2D(filters=50, kernel_size=2, strides=1, padding='same', activation='relu'))\n",
    "model.add(MaxPool2D(pool_size=2, padding='same'))\n",
    "model.add(Dropout(0.25))\n",
    "model.add(Flatten())\n",
    "# Fully Connected Layer\n",
    "model.add(Dense(512, activation='relu'))\n",
    "model.add(Dropout(0.5))\n",
    "model.add(Dense(1, activation='sigmoid'))"
   ]
  },
  {
   "cell_type": "code",
   "execution_count": 11,
   "metadata": {},
   "outputs": [
    {
     "name": "stdout",
     "output_type": "stream",
     "text": [
      "Model: \"sequential\"\n",
      "_________________________________________________________________\n",
      " Layer (type)                Output Shape              Param #   \n",
      "=================================================================\n",
      " conv2d (Conv2D)             (None, 32, 32, 32)        416       \n",
      "                                                                 \n",
      " max_pooling2d (MaxPooling2D  (None, 16, 16, 32)       0         \n",
      " )                                                               \n",
      "                                                                 \n",
      " conv2d_1 (Conv2D)           (None, 16, 16, 50)        6450      \n",
      "                                                                 \n",
      " max_pooling2d_1 (MaxPooling  (None, 8, 8, 50)         0         \n",
      " 2D)                                                             \n",
      "                                                                 \n",
      " dropout (Dropout)           (None, 8, 8, 50)          0         \n",
      "                                                                 \n",
      " flatten (Flatten)           (None, 3200)              0         \n",
      "                                                                 \n",
      " dense (Dense)               (None, 512)               1638912   \n",
      "                                                                 \n",
      " dropout_1 (Dropout)         (None, 512)               0         \n",
      "                                                                 \n",
      " dense_1 (Dense)             (None, 1)                 513       \n",
      "                                                                 \n",
      "=================================================================\n",
      "Total params: 1,646,291\n",
      "Trainable params: 1,646,291\n",
      "Non-trainable params: 0\n",
      "_________________________________________________________________\n"
     ]
    }
   ],
   "source": [
    "model.summary()"
   ]
  },
  {
   "cell_type": "code",
   "execution_count": 12,
   "metadata": {},
   "outputs": [],
   "source": [
    "# tentukan hyperparameter\n",
    "lr = 0.001\n",
    "max_epochs = 100\n",
    "opt_funct = Adam(learning_rate=lr)"
   ]
  },
  {
   "cell_type": "code",
   "execution_count": 13,
   "metadata": {},
   "outputs": [],
   "source": [
    "# compile arsitektur yang telah dibuat\n",
    "model.compile(loss = 'binary_crossentropy', \n",
    "              optimizer = opt_funct, \n",
    "              metrics = ['accuracy'])"
   ]
  },
  {
   "cell_type": "markdown",
   "metadata": {},
   "source": [
    "<h3>6. Train Model</h3>"
   ]
  },
  {
   "cell_type": "code",
   "execution_count": 34,
   "metadata": {},
   "outputs": [
    {
     "name": "stdout",
     "output_type": "stream",
     "text": [
      "Epoch 1/100\n",
      "3/3 [==============================] - 0s 46ms/step - loss: 6.0079e-04 - accuracy: 1.0000 - val_loss: 3.8693e-04 - val_accuracy: 1.0000\n",
      "Epoch 2/100\n",
      "3/3 [==============================] - 0s 37ms/step - loss: 3.6618e-04 - accuracy: 1.0000 - val_loss: 4.2576e-04 - val_accuracy: 1.0000\n",
      "Epoch 3/100\n",
      "3/3 [==============================] - 0s 35ms/step - loss: 4.1740e-04 - accuracy: 1.0000 - val_loss: 4.8808e-04 - val_accuracy: 1.0000\n",
      "Epoch 4/100\n",
      "3/3 [==============================] - 0s 36ms/step - loss: 8.9450e-04 - accuracy: 1.0000 - val_loss: 3.9531e-04 - val_accuracy: 1.0000\n",
      "Epoch 5/100\n",
      "3/3 [==============================] - 0s 34ms/step - loss: 5.7252e-04 - accuracy: 1.0000 - val_loss: 3.2668e-04 - val_accuracy: 1.0000\n",
      "Epoch 6/100\n",
      "3/3 [==============================] - 0s 34ms/step - loss: 3.0948e-04 - accuracy: 1.0000 - val_loss: 2.9544e-04 - val_accuracy: 1.0000\n",
      "Epoch 7/100\n",
      "3/3 [==============================] - 0s 36ms/step - loss: 3.9483e-04 - accuracy: 1.0000 - val_loss: 3.2318e-04 - val_accuracy: 1.0000\n",
      "Epoch 8/100\n",
      "3/3 [==============================] - 0s 34ms/step - loss: 9.2993e-04 - accuracy: 1.0000 - val_loss: 4.1338e-04 - val_accuracy: 1.0000\n",
      "Epoch 9/100\n",
      "3/3 [==============================] - 0s 36ms/step - loss: 3.7466e-04 - accuracy: 1.0000 - val_loss: 5.1312e-04 - val_accuracy: 1.0000\n",
      "Epoch 10/100\n",
      "3/3 [==============================] - 0s 33ms/step - loss: 2.3949e-04 - accuracy: 1.0000 - val_loss: 5.8822e-04 - val_accuracy: 1.0000\n",
      "Epoch 11/100\n",
      "3/3 [==============================] - 0s 33ms/step - loss: 2.7875e-04 - accuracy: 1.0000 - val_loss: 6.2754e-04 - val_accuracy: 1.0000\n",
      "Epoch 12/100\n",
      "3/3 [==============================] - 0s 33ms/step - loss: 0.0014 - accuracy: 1.0000 - val_loss: 7.0891e-04 - val_accuracy: 1.0000\n",
      "Epoch 13/100\n",
      "3/3 [==============================] - 0s 34ms/step - loss: 0.0015 - accuracy: 1.0000 - val_loss: 6.2191e-04 - val_accuracy: 1.0000\n",
      "Epoch 14/100\n",
      "3/3 [==============================] - 0s 37ms/step - loss: 3.8521e-04 - accuracy: 1.0000 - val_loss: 5.5015e-04 - val_accuracy: 1.0000\n",
      "Epoch 15/100\n",
      "3/3 [==============================] - 0s 39ms/step - loss: 3.2881e-04 - accuracy: 1.0000 - val_loss: 4.1134e-04 - val_accuracy: 1.0000\n",
      "Epoch 16/100\n",
      "3/3 [==============================] - 0s 35ms/step - loss: 1.1852e-04 - accuracy: 1.0000 - val_loss: 3.2865e-04 - val_accuracy: 1.0000\n",
      "Epoch 17/100\n",
      "3/3 [==============================] - 0s 35ms/step - loss: 0.0011 - accuracy: 1.0000 - val_loss: 2.3683e-04 - val_accuracy: 1.0000\n",
      "Epoch 18/100\n",
      "3/3 [==============================] - 0s 47ms/step - loss: 4.2846e-04 - accuracy: 1.0000 - val_loss: 1.9248e-04 - val_accuracy: 1.0000\n",
      "Epoch 19/100\n",
      "3/3 [==============================] - 0s 33ms/step - loss: 2.4446e-04 - accuracy: 1.0000 - val_loss: 1.8029e-04 - val_accuracy: 1.0000\n",
      "Epoch 20/100\n",
      "3/3 [==============================] - 0s 35ms/step - loss: 6.3729e-04 - accuracy: 1.0000 - val_loss: 1.9936e-04 - val_accuracy: 1.0000\n",
      "Epoch 21/100\n",
      "3/3 [==============================] - 0s 35ms/step - loss: 3.2441e-04 - accuracy: 1.0000 - val_loss: 2.2879e-04 - val_accuracy: 1.0000\n",
      "Epoch 22/100\n",
      "3/3 [==============================] - 0s 34ms/step - loss: 8.4293e-04 - accuracy: 1.0000 - val_loss: 2.8309e-04 - val_accuracy: 1.0000\n",
      "Epoch 23/100\n",
      "3/3 [==============================] - 0s 43ms/step - loss: 6.2843e-04 - accuracy: 1.0000 - val_loss: 3.8622e-04 - val_accuracy: 1.0000\n",
      "Epoch 24/100\n",
      "3/3 [==============================] - 0s 36ms/step - loss: 2.0144e-04 - accuracy: 1.0000 - val_loss: 4.5652e-04 - val_accuracy: 1.0000\n",
      "Epoch 25/100\n",
      "3/3 [==============================] - 0s 35ms/step - loss: 2.0047e-04 - accuracy: 1.0000 - val_loss: 4.8593e-04 - val_accuracy: 1.0000\n",
      "Epoch 26/100\n",
      "3/3 [==============================] - 0s 34ms/step - loss: 3.5861e-04 - accuracy: 1.0000 - val_loss: 4.6307e-04 - val_accuracy: 1.0000\n",
      "Epoch 27/100\n",
      "3/3 [==============================] - 0s 34ms/step - loss: 6.2127e-04 - accuracy: 1.0000 - val_loss: 5.1381e-04 - val_accuracy: 1.0000\n",
      "Epoch 28/100\n",
      "3/3 [==============================] - 0s 35ms/step - loss: 2.8871e-04 - accuracy: 1.0000 - val_loss: 5.1878e-04 - val_accuracy: 1.0000\n",
      "Epoch 29/100\n",
      "3/3 [==============================] - 0s 32ms/step - loss: 3.9196e-04 - accuracy: 1.0000 - val_loss: 5.5815e-04 - val_accuracy: 1.0000\n",
      "Epoch 30/100\n",
      "3/3 [==============================] - 0s 36ms/step - loss: 2.2157e-04 - accuracy: 1.0000 - val_loss: 5.4996e-04 - val_accuracy: 1.0000\n",
      "Epoch 31/100\n",
      "3/3 [==============================] - 0s 32ms/step - loss: 4.0801e-04 - accuracy: 1.0000 - val_loss: 4.7221e-04 - val_accuracy: 1.0000\n",
      "Epoch 32/100\n",
      "3/3 [==============================] - 0s 32ms/step - loss: 2.8276e-04 - accuracy: 1.0000 - val_loss: 3.7769e-04 - val_accuracy: 1.0000\n",
      "Epoch 33/100\n",
      "3/3 [==============================] - 0s 32ms/step - loss: 4.5579e-04 - accuracy: 1.0000 - val_loss: 3.0148e-04 - val_accuracy: 1.0000\n",
      "Epoch 34/100\n",
      "3/3 [==============================] - 0s 34ms/step - loss: 2.9408e-04 - accuracy: 1.0000 - val_loss: 2.8142e-04 - val_accuracy: 1.0000\n",
      "Epoch 35/100\n",
      "3/3 [==============================] - 0s 33ms/step - loss: 2.0225e-04 - accuracy: 1.0000 - val_loss: 2.8332e-04 - val_accuracy: 1.0000\n",
      "Epoch 36/100\n",
      "3/3 [==============================] - 0s 31ms/step - loss: 2.9090e-04 - accuracy: 1.0000 - val_loss: 2.7200e-04 - val_accuracy: 1.0000\n",
      "Epoch 37/100\n",
      "3/3 [==============================] - 0s 34ms/step - loss: 6.1687e-04 - accuracy: 1.0000 - val_loss: 2.1483e-04 - val_accuracy: 1.0000\n",
      "Epoch 38/100\n",
      "3/3 [==============================] - 0s 31ms/step - loss: 4.0391e-04 - accuracy: 1.0000 - val_loss: 1.6820e-04 - val_accuracy: 1.0000\n",
      "Epoch 39/100\n",
      "3/3 [==============================] - 0s 33ms/step - loss: 1.8906e-04 - accuracy: 1.0000 - val_loss: 1.4296e-04 - val_accuracy: 1.0000\n",
      "Epoch 40/100\n",
      "3/3 [==============================] - 0s 30ms/step - loss: 8.9098e-04 - accuracy: 1.0000 - val_loss: 1.6917e-04 - val_accuracy: 1.0000\n",
      "Epoch 41/100\n",
      "3/3 [==============================] - 0s 32ms/step - loss: 1.9002e-04 - accuracy: 1.0000 - val_loss: 2.7374e-04 - val_accuracy: 1.0000\n",
      "Epoch 42/100\n",
      "3/3 [==============================] - 0s 32ms/step - loss: 2.2819e-04 - accuracy: 1.0000 - val_loss: 3.9879e-04 - val_accuracy: 1.0000\n",
      "Epoch 43/100\n",
      "3/3 [==============================] - 0s 32ms/step - loss: 3.8673e-04 - accuracy: 1.0000 - val_loss: 5.1431e-04 - val_accuracy: 1.0000\n",
      "Epoch 44/100\n",
      "3/3 [==============================] - 0s 33ms/step - loss: 6.3055e-04 - accuracy: 1.0000 - val_loss: 4.3821e-04 - val_accuracy: 1.0000\n",
      "Epoch 45/100\n",
      "3/3 [==============================] - 0s 32ms/step - loss: 3.0289e-04 - accuracy: 1.0000 - val_loss: 3.4270e-04 - val_accuracy: 1.0000\n",
      "Epoch 46/100\n",
      "3/3 [==============================] - 0s 32ms/step - loss: 2.8379e-04 - accuracy: 1.0000 - val_loss: 2.8389e-04 - val_accuracy: 1.0000\n",
      "Epoch 47/100\n",
      "3/3 [==============================] - 0s 35ms/step - loss: 0.0013 - accuracy: 1.0000 - val_loss: 4.7171e-04 - val_accuracy: 1.0000\n",
      "Epoch 48/100\n",
      "3/3 [==============================] - 0s 31ms/step - loss: 7.3722e-04 - accuracy: 1.0000 - val_loss: 0.0016 - val_accuracy: 1.0000\n",
      "Epoch 49/100\n",
      "3/3 [==============================] - 0s 30ms/step - loss: 0.0016 - accuracy: 1.0000 - val_loss: 0.0010 - val_accuracy: 1.0000\n",
      "Epoch 50/100\n",
      "3/3 [==============================] - 0s 32ms/step - loss: 3.8466e-04 - accuracy: 1.0000 - val_loss: 5.4142e-04 - val_accuracy: 1.0000\n",
      "Epoch 51/100\n",
      "3/3 [==============================] - 0s 32ms/step - loss: 2.0199e-04 - accuracy: 1.0000 - val_loss: 3.3623e-04 - val_accuracy: 1.0000\n",
      "Epoch 52/100\n",
      "3/3 [==============================] - 0s 33ms/step - loss: 5.7908e-04 - accuracy: 1.0000 - val_loss: 2.7990e-04 - val_accuracy: 1.0000\n",
      "Epoch 53/100\n",
      "3/3 [==============================] - 0s 30ms/step - loss: 2.7305e-04 - accuracy: 1.0000 - val_loss: 3.1813e-04 - val_accuracy: 1.0000\n",
      "Epoch 54/100\n",
      "3/3 [==============================] - 0s 34ms/step - loss: 6.9788e-04 - accuracy: 1.0000 - val_loss: 3.2290e-04 - val_accuracy: 1.0000\n",
      "Epoch 55/100\n",
      "3/3 [==============================] - 0s 34ms/step - loss: 1.2999e-04 - accuracy: 1.0000 - val_loss: 3.1791e-04 - val_accuracy: 1.0000\n",
      "Epoch 56/100\n",
      "3/3 [==============================] - 0s 33ms/step - loss: 1.9705e-04 - accuracy: 1.0000 - val_loss: 3.1640e-04 - val_accuracy: 1.0000\n",
      "Epoch 57/100\n",
      "3/3 [==============================] - 0s 42ms/step - loss: 1.9309e-04 - accuracy: 1.0000 - val_loss: 3.3080e-04 - val_accuracy: 1.0000\n",
      "Epoch 58/100\n",
      "3/3 [==============================] - 0s 31ms/step - loss: 1.7091e-04 - accuracy: 1.0000 - val_loss: 3.2856e-04 - val_accuracy: 1.0000\n",
      "Epoch 59/100\n",
      "3/3 [==============================] - 0s 31ms/step - loss: 3.6783e-04 - accuracy: 1.0000 - val_loss: 3.0675e-04 - val_accuracy: 1.0000\n",
      "Epoch 60/100\n",
      "3/3 [==============================] - 0s 36ms/step - loss: 2.7381e-04 - accuracy: 1.0000 - val_loss: 2.3451e-04 - val_accuracy: 1.0000\n",
      "Epoch 61/100\n",
      "3/3 [==============================] - 0s 36ms/step - loss: 1.9556e-04 - accuracy: 1.0000 - val_loss: 1.9457e-04 - val_accuracy: 1.0000\n",
      "Epoch 62/100\n",
      "3/3 [==============================] - 0s 34ms/step - loss: 1.4635e-04 - accuracy: 1.0000 - val_loss: 1.7759e-04 - val_accuracy: 1.0000\n",
      "Epoch 63/100\n",
      "3/3 [==============================] - 0s 36ms/step - loss: 6.2260e-04 - accuracy: 1.0000 - val_loss: 1.5675e-04 - val_accuracy: 1.0000\n",
      "Epoch 64/100\n",
      "3/3 [==============================] - 0s 33ms/step - loss: 2.9766e-04 - accuracy: 1.0000 - val_loss: 1.1795e-04 - val_accuracy: 1.0000\n",
      "Epoch 65/100\n",
      "3/3 [==============================] - 0s 31ms/step - loss: 3.5618e-04 - accuracy: 1.0000 - val_loss: 1.1166e-04 - val_accuracy: 1.0000\n",
      "Epoch 66/100\n",
      "3/3 [==============================] - 0s 32ms/step - loss: 2.3431e-04 - accuracy: 1.0000 - val_loss: 1.2108e-04 - val_accuracy: 1.0000\n",
      "Epoch 67/100\n",
      "3/3 [==============================] - 0s 33ms/step - loss: 5.0832e-04 - accuracy: 1.0000 - val_loss: 1.5691e-04 - val_accuracy: 1.0000\n",
      "Epoch 68/100\n",
      "3/3 [==============================] - 0s 34ms/step - loss: 7.9711e-04 - accuracy: 1.0000 - val_loss: 3.0155e-04 - val_accuracy: 1.0000\n",
      "Epoch 69/100\n",
      "3/3 [==============================] - 0s 35ms/step - loss: 5.6522e-04 - accuracy: 1.0000 - val_loss: 4.2082e-04 - val_accuracy: 1.0000\n",
      "Epoch 70/100\n",
      "3/3 [==============================] - 0s 33ms/step - loss: 2.3191e-04 - accuracy: 1.0000 - val_loss: 3.6616e-04 - val_accuracy: 1.0000\n",
      "Epoch 71/100\n",
      "3/3 [==============================] - 0s 31ms/step - loss: 8.6300e-04 - accuracy: 1.0000 - val_loss: 2.2145e-04 - val_accuracy: 1.0000\n",
      "Epoch 72/100\n",
      "3/3 [==============================] - 0s 33ms/step - loss: 2.1483e-04 - accuracy: 1.0000 - val_loss: 1.4745e-04 - val_accuracy: 1.0000\n",
      "Epoch 73/100\n",
      "3/3 [==============================] - 0s 34ms/step - loss: 4.1096e-04 - accuracy: 1.0000 - val_loss: 1.3101e-04 - val_accuracy: 1.0000\n",
      "Epoch 74/100\n",
      "3/3 [==============================] - 0s 33ms/step - loss: 1.2932e-04 - accuracy: 1.0000 - val_loss: 1.4157e-04 - val_accuracy: 1.0000\n",
      "Epoch 75/100\n",
      "3/3 [==============================] - 0s 31ms/step - loss: 2.6755e-04 - accuracy: 1.0000 - val_loss: 1.6470e-04 - val_accuracy: 1.0000\n",
      "Epoch 76/100\n",
      "3/3 [==============================] - 0s 36ms/step - loss: 2.5184e-04 - accuracy: 1.0000 - val_loss: 2.0559e-04 - val_accuracy: 1.0000\n",
      "Epoch 77/100\n",
      "3/3 [==============================] - 0s 31ms/step - loss: 7.6095e-05 - accuracy: 1.0000 - val_loss: 2.3636e-04 - val_accuracy: 1.0000\n",
      "Epoch 78/100\n",
      "3/3 [==============================] - 0s 33ms/step - loss: 2.0276e-04 - accuracy: 1.0000 - val_loss: 2.5212e-04 - val_accuracy: 1.0000\n",
      "Epoch 79/100\n",
      "3/3 [==============================] - 0s 32ms/step - loss: 2.9300e-04 - accuracy: 1.0000 - val_loss: 2.1410e-04 - val_accuracy: 1.0000\n",
      "Epoch 80/100\n",
      "3/3 [==============================] - 0s 37ms/step - loss: 1.7907e-04 - accuracy: 1.0000 - val_loss: 1.9426e-04 - val_accuracy: 1.0000\n",
      "Epoch 81/100\n",
      "3/3 [==============================] - 0s 37ms/step - loss: 1.9906e-04 - accuracy: 1.0000 - val_loss: 1.9059e-04 - val_accuracy: 1.0000\n",
      "Epoch 82/100\n",
      "3/3 [==============================] - 0s 41ms/step - loss: 1.5533e-04 - accuracy: 1.0000 - val_loss: 1.9607e-04 - val_accuracy: 1.0000\n",
      "Epoch 83/100\n",
      "3/3 [==============================] - 0s 30ms/step - loss: 4.5193e-04 - accuracy: 1.0000 - val_loss: 1.5215e-04 - val_accuracy: 1.0000\n",
      "Epoch 84/100\n",
      "3/3 [==============================] - 0s 32ms/step - loss: 1.8417e-04 - accuracy: 1.0000 - val_loss: 1.3693e-04 - val_accuracy: 1.0000\n",
      "Epoch 85/100\n",
      "3/3 [==============================] - 0s 31ms/step - loss: 7.4074e-05 - accuracy: 1.0000 - val_loss: 1.2587e-04 - val_accuracy: 1.0000\n",
      "Epoch 86/100\n",
      "3/3 [==============================] - 0s 33ms/step - loss: 1.5132e-04 - accuracy: 1.0000 - val_loss: 1.2547e-04 - val_accuracy: 1.0000\n",
      "Epoch 87/100\n",
      "3/3 [==============================] - 0s 34ms/step - loss: 3.0286e-04 - accuracy: 1.0000 - val_loss: 1.3679e-04 - val_accuracy: 1.0000\n",
      "Epoch 88/100\n",
      "3/3 [==============================] - 0s 31ms/step - loss: 4.8697e-04 - accuracy: 1.0000 - val_loss: 2.3254e-04 - val_accuracy: 1.0000\n",
      "Epoch 89/100\n",
      "3/3 [==============================] - 0s 35ms/step - loss: 1.3383e-04 - accuracy: 1.0000 - val_loss: 3.5587e-04 - val_accuracy: 1.0000\n",
      "Epoch 90/100\n",
      "3/3 [==============================] - 0s 33ms/step - loss: 1.1199e-04 - accuracy: 1.0000 - val_loss: 5.2570e-04 - val_accuracy: 1.0000\n",
      "Epoch 91/100\n",
      "3/3 [==============================] - 0s 35ms/step - loss: 5.6905e-05 - accuracy: 1.0000 - val_loss: 6.6586e-04 - val_accuracy: 1.0000\n",
      "Epoch 92/100\n",
      "3/3 [==============================] - 0s 35ms/step - loss: 5.7137e-04 - accuracy: 1.0000 - val_loss: 5.4899e-04 - val_accuracy: 1.0000\n",
      "Epoch 93/100\n",
      "3/3 [==============================] - 0s 31ms/step - loss: 5.0116e-04 - accuracy: 1.0000 - val_loss: 3.1567e-04 - val_accuracy: 1.0000\n",
      "Epoch 94/100\n",
      "3/3 [==============================] - 0s 31ms/step - loss: 2.8018e-04 - accuracy: 1.0000 - val_loss: 2.0464e-04 - val_accuracy: 1.0000\n",
      "Epoch 95/100\n",
      "3/3 [==============================] - 0s 32ms/step - loss: 1.3160e-04 - accuracy: 1.0000 - val_loss: 1.5101e-04 - val_accuracy: 1.0000\n",
      "Epoch 96/100\n",
      "3/3 [==============================] - 0s 31ms/step - loss: 6.7111e-04 - accuracy: 1.0000 - val_loss: 9.7028e-05 - val_accuracy: 1.0000\n",
      "Epoch 97/100\n",
      "3/3 [==============================] - 0s 30ms/step - loss: 7.8135e-04 - accuracy: 1.0000 - val_loss: 1.1368e-04 - val_accuracy: 1.0000\n",
      "Epoch 98/100\n",
      "3/3 [==============================] - 0s 33ms/step - loss: 5.1546e-04 - accuracy: 1.0000 - val_loss: 1.5412e-04 - val_accuracy: 1.0000\n",
      "Epoch 99/100\n",
      "3/3 [==============================] - 0s 35ms/step - loss: 1.2281e-04 - accuracy: 1.0000 - val_loss: 1.9108e-04 - val_accuracy: 1.0000\n",
      "Epoch 100/100\n",
      "3/3 [==============================] - 0s 37ms/step - loss: 3.3887e-04 - accuracy: 1.0000 - val_loss: 1.9014e-04 - val_accuracy: 1.0000\n"
     ]
    }
   ],
   "source": [
    "H = model.fit(x_train, y_train, validation_data=(x_test, y_test), \n",
    "          epochs=max_epochs, batch_size=32)"
   ]
  },
  {
   "cell_type": "code",
   "execution_count": 35,
   "metadata": {},
   "outputs": [
    {
     "data": {
      "image/png": "[encoded data removed]",
      "text/plain": [
       "<Figure size 432x288 with 1 Axes>"
      ]
     },
     "metadata": {},
     "output_type": "display_data"
    }
   ],
   "source": [
    "N = np.arange(0, max_epochs)\n",
    "plt.style.use(\"ggplot\")\n",
    "plt.figure()\n",
    "plt.plot(N, H.history[\"loss\"], label=\"train_loss\")\n",
    "plt.plot(N, H.history[\"val_loss\"], label=\"val_loss\")\n",
    "#plt.plot(N, H.history[\"accuracy\"], label=\"train_acc\")\n",
    "#plt.plot(N, H.history[\"val_accuracy\"], label=\"val_acc\")\n",
    "plt.xlabel(\"Epoch #\")\n",
    "plt.legend()\n",
    "plt.show()"
   ]
  },
  {
   "cell_type": "markdown",
   "metadata": {},
   "source": [
    "<h3>7. Evaluate the Model</h3>"
   ]
  },
  {
   "cell_type": "code",
   "execution_count": 36,
   "metadata": {},
   "outputs": [
    {
     "name": "stdout",
     "output_type": "stream",
     "text": [
      "              precision    recall  f1-score   support\n",
      "\n",
      " Daun Nangka       1.00      1.00      1.00        12\n",
      " Daun Pandan       1.00      1.00      1.00         8\n",
      "\n",
      "    accuracy                           1.00        20\n",
      "   macro avg       1.00      1.00      1.00        20\n",
      "weighted avg       1.00      1.00      1.00        20\n",
      "\n"
     ]
    }
   ],
   "source": [
    "# menghitung nilai akurasi model terhadap data test\n",
    "predictions = model.predict(x_test, batch_size=32)\n",
    "target = (predictions > 0.5).astype(np.float64)\n",
    "print(classification_report(y_test, target, target_names=label_list))"
   ]
  },
  {
   "cell_type": "code",
   "execution_count": 53,
   "metadata": {},
   "outputs": [
    {
     "name": "stdout",
     "output_type": "stream",
     "text": [
      "[[4.036043e-09]]\n"
     ]
    }
   ],
   "source": [
    "# uji model menggunakan image lain\n",
    "queryPath = imagePaths+'query_daun-nangka7.jpg'\n",
    "query = cv2.imread(queryPath)\n",
    "output = query.copy()\n",
    "query = cv2.resize(query, (32, 32))\n",
    "q = []\n",
    "q.append(query)\n",
    "q = np.array(q, dtype='float') / 255.0\n",
    "\n",
    "q_pred = model.predict(q)\n",
    "print(q_pred)"
   ]
  },
  {
   "cell_type": "code",
   "execution_count": 54,
   "metadata": {},
   "outputs": [],
   "source": [
    "if q_pred<=0.5 :\n",
    "    target = \"Daun Nangka\"\n",
    "else :\n",
    "    target = \"Daun Pandan\"\n",
    "text = \"{}\".format(target)\n",
    "cv2.putText(output, text, (10, 30), cv2.FONT_HERSHEY_SIMPLEX, 0.7, (0, 0, 255), 2)\n",
    " \n",
    "# menampilkan output image\n",
    "cv2.imshow('Output', output)\n",
    "cv2.waitKey() # image tidak akan diclose,sebelum user menekan sembarang tombol\n",
    "cv2.destroyWindow('Output') # image akan diclose"
   ]
  },
  {
   "cell_type": "code",
   "execution_count": null,
   "metadata": {},
   "outputs": [],
   "source": []
  }
 ],
 "metadata": {
  "kernelspec": {
   "display_name": "Python 3",
   "language": "python",
   "name": "python3"
  },
  "language_info": {
   "codemirror_mode": {
    "name": "ipython",
    "version": 3
   },
   "file_extension": ".py",
   "mimetype": "text/x-python",
   "name": "python",
   "nbconvert_exporter": "python",
   "pygments_lexer": "ipython3",
   "version": "3.9.4"
  }
 },
 "nbformat": 4,
 "nbformat_minor": 4
}
